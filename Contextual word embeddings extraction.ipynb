{
  "nbformat": 4,
  "nbformat_minor": 0,
  "metadata": {
    "colab": {
      "name": "CNN-FakeNewsDetection.ipynb",
      "provenance": [],
      "collapsed_sections": [
        "TkOVdKbFSzdV"
      ]
    },
    "kernelspec": {
      "name": "python3",
      "display_name": "Python 3"
    },
    "language_info": {
      "name": "python"
    },
    "accelerator": "GPU"
  },
  "cells": [
    {
      "cell_type": "markdown",
      "source": [
        "## **Initial configuration**"
      ],
      "metadata": {
        "id": "vwnE79LIStJu"
      }
    },
    {
      "cell_type": "code",
      "source": [
        "import os\n",
        "import tqdm\n",
        "import time\n",
        "\n",
        "import numpy as np\n",
        "import tensorflow as tf\n",
        "import pandas as pd\n",
        "from tensorflow import keras\n",
        "import matplotlib.pyplot as plt\n",
        "\n",
        "from tensorflow.keras import layers\n",
        "from keras import backend as K\n",
        "from tensorflow.keras.callbacks import EarlyStopping, ModelCheckpoint\n",
        "from sklearn.metrics import f1_score, ConfusionMatrixDisplay\n",
        "from sklearn.model_selection import train_test_split\n",
        "\n",
        "!pip install -q tf-models-official\n",
        "!pip install -q -U tensorflow-text \n",
        "!pip install -U spacy\n",
        "!python -m spacy download en_core_web_md\n",
        "\n",
        "import tensorflow_hub as hub\n",
        "import tensorflow_text as text\n",
        "\n",
        "import en_core_web_md\n",
        "from google.colab import drive\n",
        "drive.mount('/content/drive')\n",
        " \n",
        "!cp /content/drive/MyDrive/HLT/dataset/* ."
      ],
      "metadata": {
        "id": "B7SVtexZvMXR",
        "colab": {
          "base_uri": "https://localhost:8080/"
        },
        "outputId": "760f6df1-d413-494b-e663-c57b79dc811f"
      },
      "execution_count": null,
      "outputs": [
        {
          "output_type": "stream",
          "name": "stdout",
          "text": [
            "Mounted at /content/drive\n",
            "cp: -r not specified; omitting directory '/content/drive/MyDrive/HLT/dataset/base_model'\n",
            "cp: -r not specified; omitting directory '/content/drive/MyDrive/HLT/dataset/dataset_split'\n"
          ]
        }
      ]
    },
    {
      "cell_type": "code",
      "source": [
        "NUM_CLASSES=4\n",
        "\n",
        "MODEL_DIR=\"/content/drive/MyDrive/HLT/\"\n",
        "DATA_DIR=MODEL_DIR+\"dataset/dataset_split/\"\n",
        "\n",
        "BERT_MODEL=\"https://tfhub.dev/tensorflow/albert_en_base/3\"\n",
        "BERT_PREPROCESS_MODEL=\"https://tfhub.dev/tensorflow/bert_en_uncased_preprocess/3\"\n",
        "\n",
        "BATCH_SIZE=32\n",
        "LABELS=['agree', 'disagree', 'discuss', 'unrelated']\n",
        "LABELS_RELATED=['unrelated','related']\n",
        "RELATED=LABELS[0:3]\n",
        "TARGET_COLUMN=\"Stance\"\n",
        "\n",
        "MAX_WORDS=20000     # max number of words in the dictionary\n",
        "SEQ_LENGTH=128      # max sequence length of text \n",
        "EMBEDDING_DIM=300   # size of spacy embeddings"
      ],
      "metadata": {
        "id": "qa-GACwd8PSg"
      },
      "execution_count": null,
      "outputs": []
    },
    {
      "cell_type": "code",
      "source": [
        "# utility functions\n",
        "def get_predictions(head, body, model_used):\n",
        "  \n",
        "  prediction = model_used.predict([head, body])\n",
        "\n",
        "  pred_labels = prediction.argmax(axis=1)\n",
        "  pred_labels = np.array([LABELS[i] for i in pred_labels])\n",
        "\n",
        "  return pred_labels\n",
        "\n",
        "\n",
        "def score_metrics(gold_labels, pred_labels):\n",
        "  score = 0.0\n",
        "  for i, (g, t) in enumerate(zip(gold_labels, pred_labels)):\n",
        "        g_stance, t_stance = g, t\n",
        "        if g_stance == t_stance:\n",
        "            score += 0.25\n",
        "            if g_stance != 'unrelated':\n",
        "                score += 0.50\n",
        "        if g_stance in RELATED and t_stance in RELATED:\n",
        "            score += 0.25\n",
        "\n",
        "  return score\n",
        "\n",
        "\n",
        "def get_vectorizer(seq_length):\n",
        "  headline, articleBody, labels = get_dataset(\"train\")\n",
        "  concat = np.concatenate((headline, articleBody))\n",
        "\n",
        "  vectorizer = layers.TextVectorization(max_tokens=MAX_WORDS, \n",
        "                                output_mode = 'int', \n",
        "                                standardize='lower_and_strip_punctuation',\n",
        "                                split=\"whitespace\",\n",
        "                                ngrams=None, \n",
        "                                output_sequence_length=seq_length,\n",
        "                                pad_to_max_tokens=True,)\n",
        "  \n",
        "  vectorizer.adapt(concat)\n",
        "\n",
        "  return vectorizer\n",
        "\n",
        "\n",
        "def play_with_vectorizer(vectorizer):\n",
        "  voc = vectorizer.get_vocabulary()\n",
        "  num_tokens = len(voc)\n",
        "  print(f'Vocabulary size: {num_tokens}')\n",
        "  print(f'Vocabulary beginning: {voc[:5]}')\n",
        "\n",
        "  example = \"the pen is on the table\"\n",
        "  vectorized_example = vectorizer([[example]])\n",
        "\n",
        "  print(f'Example to give as input to the vectorizer: \"{example}\"')\n",
        "  print(f'Size of vectorized example: {vectorized_example.numpy().shape}')\n",
        "  print(f'Vector of the example: {vectorized_example.numpy()[0]}')\n",
        "\n",
        "\n",
        "def get_embedding_matrix(vectorizer, embedding_dim):\n",
        "  voc = vectorizer.get_vocabulary()\n",
        "  num_tokens = len(voc)\n",
        "  word_index = dict(zip(voc, range(num_tokens)))   # buiilding a dictionary with a (key, value)=(word, position in voc) for each word in the vocabulary\n",
        "\n",
        "  nlp = en_core_web_md.load()   # loading pretrained embedding with spacy\n",
        "           \n",
        "  hits = 0\n",
        "  misses = 0\n",
        "\n",
        "  # Prepare embedding matrix\n",
        "  embedding_matrix = np.zeros((num_tokens, embedding_dim))  #  embedding_dim is the spacy dimensionality of embeddings\n",
        "\n",
        "  for word, i in tqdm.tqdm(word_index.items()):\n",
        "      embedding_vector = nlp(str(word)).vector\n",
        "      if np.linalg.norm(embedding_vector)!=0:     # Words not found in embedding index will be all-zeros, so their norm would be zero. \n",
        "          embedding_matrix[i] = embedding_vector  # This includes the representation for \"padding\" and \"OOV\" i.e. Out Of Vocabulary\n",
        "          hits += 1                               \n",
        "      else:\n",
        "          misses += 1\n",
        "  print()\n",
        "  print(\"Converted %d words (%d misses)\" % (hits, misses))\n",
        "\n",
        "  return embedding_matrix\n",
        "\n",
        "\n",
        "def get_dataset(dataset):\n",
        "  data_bodies = pd.read_csv(dataset + \"_bodies.csv\")\n",
        "  data_stances = pd.read_csv(dataset + \"_stances.csv\")\n",
        "\n",
        "  join_data =  pd.merge(data_stances, data_bodies, how=\"inner\", on=[\"Body ID\"])\n",
        "  join_data = join_data[['Body ID', 'Headline', 'articleBody', 'Stance']]\n",
        "\n",
        "  join_data[TARGET_COLUMN] = join_data[TARGET_COLUMN].astype('category')\n",
        "\n",
        "  headline = join_data.Headline.map(str).to_numpy()  # headline -> str\n",
        "  articleBody = join_data.articleBody.map(str).to_numpy()  # articleBody -> str\n",
        "\n",
        "\n",
        "  labels = join_data[TARGET_COLUMN].cat.codes.to_numpy()  # integer labels of categories\n",
        "\n",
        "  return headline, articleBody, labels\n",
        "\n",
        "\n",
        "def save_dataset_splitted(sample_size=-1):\n",
        "  data_bodies = pd.read_csv(\"train_bodies.csv\")\n",
        "  data_stances = pd.read_csv(\"train_stances.csv\")\n",
        "\n",
        "  join_data =  pd.merge(data_stances, data_bodies, how=\"inner\", on=[\"Body ID\"])\n",
        "  join_data = join_data[['Body ID', 'Headline', 'articleBody', 'Stance']]\n",
        "\n",
        "  join_data[TARGET_COLUMN] = join_data[TARGET_COLUMN].astype('category')\n",
        "\n",
        "  if sample_size != -1:\n",
        "    join_data = join_data[:sample_size]\n",
        "\n",
        "  train_annot, val_annot = train_test_split(join_data, test_size=0.2, random_state=42, shuffle=True, stratify=join_data[TARGET_COLUMN])\n",
        "\n",
        "  train_annot.to_csv(DATA_DIR + 'train_annot.csv')\n",
        "  val_annot.to_csv(DATA_DIR + 'val_annot.csv')\n",
        "  \n",
        "\n",
        "def get_dataset_splitted():\n",
        "  train_annot = pd.read_csv(DATA_DIR + \"train_annot.csv\")\n",
        "  val_annot = pd.read_csv(DATA_DIR + \"val_annot.csv\")\n",
        "\n",
        "  headline_train = train_annot.Headline.map(str).to_numpy()  # headline -> str\n",
        "  headline_val = val_annot.Headline.map(str).to_numpy()  \n",
        "  \n",
        "  train_annot[TARGET_COLUMN] = train_annot[TARGET_COLUMN].astype('category')\n",
        "  val_annot[TARGET_COLUMN] = val_annot[TARGET_COLUMN].astype('category')\n",
        "  articleBody_train = train_annot.articleBody.map(str).to_numpy()  # articleBody -> str\n",
        "  articleBody_val = val_annot.articleBody.map(str).to_numpy()  \n",
        "\n",
        "\n",
        "  labels_train = train_annot[TARGET_COLUMN].cat.codes.to_numpy()  # integer labels of categories\n",
        "  labels_val = val_annot[TARGET_COLUMN].cat.codes.to_numpy()\n",
        "\n",
        "  return headline_train, articleBody_train, labels_train, headline_val, articleBody_val, labels_val\n",
        "\n",
        "\n",
        "def get_confusion_matrix(gold_labels, pred_labels):  \n",
        "    confusion_matrix = [[0, 0, 0, 0],   #this is the confusion_matrix\n",
        "                        [0, 0, 0, 0],\n",
        "                        [0, 0, 0, 0],\n",
        "                        [0, 0, 0, 0]]\n",
        "\n",
        "    for i, (g, t) in enumerate(zip(gold_labels, pred_labels)):\n",
        "        confusion_matrix[LABELS.index(g)][LABELS.index(t)] += 1\n",
        "\n",
        "    return confusion_matrix\n",
        "\n",
        "\n",
        "# monitoring metrics\n",
        "def f1_training(y_true, y_pred):     \n",
        "    \"\"\" Calculate the micro f1, so globally by counting the total true positives, false negatives and false positives.\"\"\" \n",
        "    precision = precision_training(y_true, y_pred)\n",
        "    recall = recall_training(y_true, y_pred)\n",
        "    return 2*((precision*recall)/(precision+recall+K.epsilon()))\n",
        "\n",
        "\n",
        "def recall_training(y_true, y_pred):\n",
        "    \"\"\" Calculate the recall, so globally by counting the total true positives, false negatives and false positives.\"\"\" \n",
        "    y_true = K.ones_like(y_true) \n",
        "    true_positives = K.sum(K.round(K.clip(y_true * y_pred, 0, 1)))\n",
        "    all_positives = K.sum(K.round(K.clip(y_true, 0, 1)))\n",
        "    \n",
        "    recall = true_positives / (all_positives + K.epsilon())\n",
        "    return recall\n",
        "\n",
        "\n",
        "def precision_training(y_true, y_pred):\n",
        "    y_true = K.ones_like(y_true) \n",
        "    true_positives = K.sum(K.round(K.clip(y_true * y_pred, 0, 1)))\n",
        "    \n",
        "    predicted_positives = K.sum(K.round(K.clip(y_pred, 0, 1)))\n",
        "    precision = true_positives / (predicted_positives + K.epsilon())\n",
        "    return precision"
      ],
      "metadata": {
        "id": "BbWkHwS1JDR7"
      },
      "execution_count": null,
      "outputs": []
    },
    {
      "cell_type": "markdown",
      "source": [
        "## **CNN base**"
      ],
      "metadata": {
        "id": "TkOVdKbFSzdV"
      }
    },
    {
      "cell_type": "code",
      "source": [
        "vectorizer = get_vectorizer(SEQ_LENGTH)\n",
        "play_with_vectorizer(vectorizer)"
      ],
      "metadata": {
        "colab": {
          "base_uri": "https://localhost:8080/"
        },
        "id": "5NEOCvqN7g8-",
        "outputId": "680eb845-2ce4-41d3-cad8-9e5bb35e5b38"
      },
      "execution_count": null,
      "outputs": [
        {
          "output_type": "stream",
          "name": "stdout",
          "text": [
            "Vocabulary size: 20000\n",
            "Vocabulary beginning: ['', '[UNK]', 'the', 'to', 'a']\n",
            "Example to give as input to the vectorizer: \"the pen is on the table\"\n",
            "Size of vectorized example: (1, 128)\n",
            "Vector of the example: [   2    1    9   11    2 3038    0    0    0    0    0    0    0    0\n",
            "    0    0    0    0    0    0    0    0    0    0    0    0    0    0\n",
            "    0    0    0    0    0    0    0    0    0    0    0    0    0    0\n",
            "    0    0    0    0    0    0    0    0    0    0    0    0    0    0\n",
            "    0    0    0    0    0    0    0    0    0    0    0    0    0    0\n",
            "    0    0    0    0    0    0    0    0    0    0    0    0    0    0\n",
            "    0    0    0    0    0    0    0    0    0    0    0    0    0    0\n",
            "    0    0    0    0    0    0    0    0    0    0    0    0    0    0\n",
            "    0    0    0    0    0    0    0    0    0    0    0    0    0    0\n",
            "    0    0]\n"
          ]
        }
      ]
    },
    {
      "cell_type": "code",
      "source": [
        "embedding_matrix = get_embedding_matrix(vectorizer, EMBEDDING_DIM)"
      ],
      "metadata": {
        "colab": {
          "base_uri": "https://localhost:8080/"
        },
        "id": "zExeeZOV7i_G",
        "outputId": "bafbce94-53a1-4620-d85d-d976bb5bd212"
      },
      "execution_count": null,
      "outputs": [
        {
          "output_type": "stream",
          "name": "stderr",
          "text": [
            "100%|██████████| 20000/20000 [01:44<00:00, 190.89it/s]"
          ]
        },
        {
          "output_type": "stream",
          "name": "stdout",
          "text": [
            "\n",
            "Converted 17713 words (2287 misses)\n"
          ]
        },
        {
          "output_type": "stream",
          "name": "stderr",
          "text": [
            "\n"
          ]
        }
      ]
    },
    {
      "cell_type": "code",
      "source": [
        "#manipulate the dataset in input to the model\n",
        "headline_train, body_train, labels_train, headline_val, body_val, labels_val = get_dataset_splitted()\n",
        "\n",
        "vect_head_train = vectorizer(np.array([[s] for s in headline_train])).numpy()    # First create a numpy array of shape Nx1 with N = #texts, \n",
        "vect_head_val = vectorizer(np.array([[s] for s in headline_val])).numpy()        # then get a Tensor of shape NxSEQ_LENGTH that is the result of the vectorization\n",
        "                                                                                 # of all text, truncated at SEQ_LENGTH and finally convert it into a numpy array\n",
        "\n",
        "vect_body_train = vectorizer(np.array([[s] for s in body_train])).numpy()\n",
        "vect_body_val = vectorizer(np.array([[s] for s in body_val])).numpy()"
      ],
      "metadata": {
        "id": "RiyWwmha6AsN"
      },
      "execution_count": null,
      "outputs": []
    },
    {
      "cell_type": "code",
      "source": [
        "# Build the model with the Functional API\n",
        "\n",
        "# initialize an embedding layer that is just a matrix of size V x E\n",
        "# where is done a lookup operation to take the word embedding of a word\n",
        "embedding_layer = layers.Embedding(\n",
        "    len(vectorizer.get_vocabulary()),\n",
        "    EMBEDDING_DIM,\n",
        "    embeddings_initializer=keras.initializers.Constant(embedding_matrix),                                                                                  \n",
        "    trainable=False,                                                         \n",
        ")\n",
        "\n",
        "head_input = keras.Input(shape=(None,), dtype=\"int64\", name=\"title\")\n",
        "body_input = keras.Input(shape=(None,), dtype=\"int64\", name=\"body\")\n",
        "\n",
        "embedded_head = embedding_layer(head_input)\n",
        "embedded_body = embedding_layer(body_input)\n",
        "\n",
        "head = layers.Conv1D(256, 5, activation=\"relu\", padding=\"same\")(embedded_head)\n",
        "head = layers.Dropout(0.5)(head)\n",
        "head = layers.MaxPooling1D()(head)  # padding default to valid\n",
        "head = layers.Conv1D(256, 5, activation=\"relu\", padding=\"same\")(head)\n",
        "head = layers.Dropout(0.5)(head)\n",
        "head = layers.MaxPooling1D()(head)\n",
        "head = layers.Conv1D(512, 5, activation=\"relu\", padding=\"same\")(head)\n",
        "head = layers.Dropout(0.5)(head)\n",
        "head = layers.MaxPooling1D()(head)\n",
        "head = layers.Conv1D(512, 5, activation=\"relu\", padding=\"same\")(head)\n",
        "head = layers.Dropout(0.5)(head)\n",
        "head = layers.Conv1D(768, 5, activation=\"relu\", padding=\"same\")(head)\n",
        "head = layers.Dropout(0.5)(head)\n",
        "head = layers.GlobalMaxPooling1D()(head)\n",
        "\n",
        "body = layers.Conv1D(256, 5, activation=\"relu\", padding=\"same\")(embedded_body)\n",
        "body = layers.Dropout(0.5)(body)\n",
        "body = layers.MaxPooling1D()(body)\n",
        "body = layers.Conv1D(256, 5, activation=\"relu\", padding=\"same\")(body)\n",
        "body = layers.Dropout(0.5)(body)\n",
        "body = layers.MaxPooling1D()(body)\n",
        "body = layers.Conv1D(512, 5, activation=\"relu\", padding=\"same\")(body)\n",
        "body = layers.Dropout(0.5)(body)\n",
        "body = layers.MaxPooling1D()(body)\n",
        "body = layers.Conv1D(512, 5, activation=\"relu\", padding=\"same\")(body)\n",
        "body = layers.Dropout(0.5)(body)\n",
        "body = layers.Conv1D(768, 5, activation=\"relu\", padding=\"same\")(body)\n",
        "body = layers.Dropout(0.5)(body)\n",
        "body = layers.GlobalMaxPooling1D()(body) \n",
        "\n",
        "concatted = tf.keras.layers.Concatenate()([head, body])\n",
        "\n",
        "x = layers.Dense(1024, activation=\"relu\")(concatted)\n",
        "x = layers.Dense(1024, activation=\"relu\")(x)\n",
        "x = layers.Dense(1024, activation=\"relu\")(x)\n",
        "preds = layers.Dense(NUM_CLASSES, activation=\"softmax\", name='classifier')(x)\n",
        "\n",
        "model = keras.Model([head_input, body_input], preds)\n",
        "model.summary()"
      ],
      "metadata": {
        "id": "V8cxDPSR2wtt"
      },
      "execution_count": null,
      "outputs": []
    },
    {
      "cell_type": "code",
      "source": [
        "tf.keras.utils.plot_model(model)"
      ],
      "metadata": {
        "id": "XJSvB48ZRev1"
      },
      "execution_count": null,
      "outputs": []
    },
    {
      "cell_type": "code",
      "source": [
        "loss = tf.keras.losses.SparseCategoricalCrossentropy(from_logits=False) #in fact labels are not one-hot encoded\n",
        "\n",
        "earlystopping = EarlyStopping(monitor='val_loss', mode='min', patience=5, verbose=1)\n",
        "\n",
        "checkpoint = ModelCheckpoint(MODEL_DIR + \"/cnn_model/seq_length_5.h5\",   \n",
        "        monitor='val_loss', mode='min', verbose=1, \n",
        "        save_best_only=True, save_freq='epoch'\n",
        ")\n",
        "\n",
        "learning_rate = 2e-4\n",
        "optimizer=tf.keras.optimizers.Adam(learning_rate=learning_rate)\n",
        "\n",
        "metrics = ['accuracy', \n",
        "          f1_training,\n",
        "          recall_training,\n",
        "          precision_training]\n",
        "\n",
        "model.compile(\n",
        "    loss=loss, \n",
        "    optimizer=optimizer, \n",
        "    metrics=metrics\n",
        ")"
      ],
      "metadata": {
        "id": "NuhTpxwy25mv"
      },
      "execution_count": null,
      "outputs": []
    },
    {
      "cell_type": "code",
      "source": [
        "EPOCHS=20\n",
        "\n",
        "model.fit({\"title\": vect_head_train, \"body\": vect_body_train},\n",
        "          labels_train,  \n",
        "          batch_size=BATCH_SIZE,\n",
        "          epochs=EPOCHS, \n",
        "          validation_data=({\"title\": vect_head_val, \"body\": vect_body_val}, labels_val), \n",
        "          callbacks=[checkpoint, earlystopping],\n",
        "          verbose=1\n",
        ")"
      ],
      "metadata": {
        "id": "fHSWHHFPj8oK"
      },
      "execution_count": null,
      "outputs": []
    },
    {
      "cell_type": "markdown",
      "source": [
        "## **CNN with BERT embeddings**"
      ],
      "metadata": {
        "id": "wTzlizKfQyfB"
      }
    },
    {
      "cell_type": "code",
      "source": [
        "head_input = keras.Input(shape=(), dtype=tf.string, name=\"title\")\n",
        "body_input = keras.Input(shape=(), dtype=tf.string, name=\"body\")\n",
        "\n",
        "preprocessing_layer = hub.KerasLayer(BERT_PREPROCESS_MODEL, name='preprocessing')\n",
        "\n",
        "encoder_head_inputs = preprocessing_layer(head_input)\n",
        "encoder_body_inputs = preprocessing_layer(body_input)\n",
        "\n",
        "encoder = hub.KerasLayer(BERT_MODEL, trainable=False, name='BERT_encoder')\n",
        "encoder.trainable = False\n",
        "\n",
        "embedded_head = encoder(encoder_head_inputs)\n",
        "embedded_head = embedded_head['encoder_outputs'][-4:]\n",
        "embedded_head = layers.Concatenate(axis=2)(embedded_head)\n",
        "\n",
        "embedded_body = encoder(encoder_body_inputs)\n",
        "embedded_body = embedded_body['encoder_outputs'][-4:]\n",
        "embedded_body = layers.Concatenate(axis=2)(embedded_body)\n",
        "\n",
        "head = layers.Conv1D(256, 5, activation=\"relu\", padding=\"same\")(embedded_head)\n",
        "head = layers.Dropout(0.5)(head)\n",
        "head = layers.MaxPooling1D()(head)  # padding default to valid\n",
        "head = layers.Conv1D(256, 5, activation=\"relu\", padding=\"same\")(head)\n",
        "head = layers.Dropout(0.5)(head)\n",
        "head = layers.MaxPooling1D()(head)\n",
        "head = layers.Conv1D(512, 5, activation=\"relu\", padding=\"same\")(head)\n",
        "head = layers.Dropout(0.5)(head)\n",
        "head = layers.MaxPooling1D()(head)\n",
        "head = layers.Conv1D(512, 5, activation=\"relu\", padding=\"same\")(head)\n",
        "head = layers.Dropout(0.5)(head)\n",
        "head = layers.Conv1D(768, 5, activation=\"relu\", padding=\"same\")(head)\n",
        "head = layers.Dropout(0.5)(head)\n",
        "head = layers.GlobalMaxPooling1D()(head)\n",
        "\n",
        "body = layers.Conv1D(256, 5, activation=\"relu\", padding=\"same\")(embedded_body)\n",
        "body = layers.Dropout(0.5)(body)\n",
        "body = layers.MaxPooling1D()(body)\n",
        "body = layers.Conv1D(256, 5, activation=\"relu\", padding=\"same\")(body)\n",
        "body = layers.Dropout(0.5)(body)\n",
        "body = layers.MaxPooling1D()(body)\n",
        "body = layers.Conv1D(512, 5, activation=\"relu\", padding=\"same\")(body)\n",
        "body = layers.Dropout(0.5)(body)\n",
        "body = layers.MaxPooling1D()(body)\n",
        "body = layers.Conv1D(512, 5, activation=\"relu\", padding=\"same\")(body)\n",
        "body = layers.Dropout(0.5)(body)\n",
        "body = layers.Conv1D(768, 5, activation=\"relu\", padding=\"same\")(body)\n",
        "body = layers.Dropout(0.5)(body)\n",
        "body = layers.GlobalMaxPooling1D()(body) \n",
        "\n",
        "concatted = layers.Concatenate()([head, body])\n",
        "\n",
        "x = layers.Dense(1024, activation=\"relu\")(concatted) \n",
        "x = layers.Dense(1024, activation=\"relu\")(x)\n",
        "x = layers.Dense(1024, activation=\"relu\")(x) \n",
        "preds = layers.Dense(NUM_CLASSES, activation=\"softmax\", name='classifier')(x)\n",
        "\n",
        "model_bert = keras.Model([head_input, body_input], preds)\n",
        "model_bert.summary()"
      ],
      "metadata": {
        "id": "OU1RUtKdQ3no",
        "colab": {
          "base_uri": "https://localhost:8080/"
        },
        "outputId": "bd0e3ccb-72e4-4854-d993-09eeb62480f0"
      },
      "execution_count": null,
      "outputs": [
        {
          "output_type": "stream",
          "name": "stdout",
          "text": [
            "Model: \"model_1\"\n",
            "__________________________________________________________________________________________________\n",
            " Layer (type)                   Output Shape         Param #     Connected to                     \n",
            "==================================================================================================\n",
            " title (InputLayer)             [(None,)]            0           []                               \n",
            "                                                                                                  \n",
            " body (InputLayer)              [(None,)]            0           []                               \n",
            "                                                                                                  \n",
            " preprocessing (KerasLayer)     {'input_mask': (Non  0           ['title[0][0]',                  \n",
            "                                e, 128),                          'body[0][0]']                   \n",
            "                                 'input_word_ids':                                                \n",
            "                                (None, 128),                                                      \n",
            "                                 'input_type_ids':                                                \n",
            "                                (None, 128)}                                                      \n",
            "                                                                                                  \n",
            " BERT_encoder (KerasLayer)      {'default': (None,   11683584    ['preprocessing[0][0]',          \n",
            "                                768),                             'preprocessing[0][1]',          \n",
            "                                 'sequence_output':               'preprocessing[0][2]',          \n",
            "                                 (None, 128, 768),                'preprocessing[1][0]',          \n",
            "                                 'encoder_outputs':               'preprocessing[1][1]',          \n",
            "                                 [(None, 128, 768),               'preprocessing[1][2]']          \n",
            "                                 (None, 128, 768),                                                \n",
            "                                 (None, 128, 768),                                                \n",
            "                                 (None, 128, 768),                                                \n",
            "                                 (None, 128, 768),                                                \n",
            "                                 (None, 128, 768),                                                \n",
            "                                 (None, 128, 768),                                                \n",
            "                                 (None, 128, 768),                                                \n",
            "                                 (None, 128, 768),                                                \n",
            "                                 (None, 128, 768),                                                \n",
            "                                 (None, 128, 768),                                                \n",
            "                                 (None, 128, 768)],                                               \n",
            "                                 'pooled_output': (                                               \n",
            "                                None, 768)}                                                       \n",
            "                                                                                                  \n",
            " concatenate_3 (Concatenate)    (None, 128, 3072)    0           ['BERT_encoder[0][9]',           \n",
            "                                                                  'BERT_encoder[0][10]',          \n",
            "                                                                  'BERT_encoder[0][11]',          \n",
            "                                                                  'BERT_encoder[0][12]']          \n",
            "                                                                                                  \n",
            " concatenate_4 (Concatenate)    (None, 128, 3072)    0           ['BERT_encoder[1][9]',           \n",
            "                                                                  'BERT_encoder[1][10]',          \n",
            "                                                                  'BERT_encoder[1][11]',          \n",
            "                                                                  'BERT_encoder[1][12]']          \n",
            "                                                                                                  \n",
            " conv1d_10 (Conv1D)             (None, 128, 256)     3932416     ['concatenate_3[0][0]']          \n",
            "                                                                                                  \n",
            " conv1d_15 (Conv1D)             (None, 128, 256)     3932416     ['concatenate_4[0][0]']          \n",
            "                                                                                                  \n",
            " dropout_10 (Dropout)           (None, 128, 256)     0           ['conv1d_10[0][0]']              \n",
            "                                                                                                  \n",
            " dropout_15 (Dropout)           (None, 128, 256)     0           ['conv1d_15[0][0]']              \n",
            "                                                                                                  \n",
            " max_pooling1d_6 (MaxPooling1D)  (None, 64, 256)     0           ['dropout_10[0][0]']             \n",
            "                                                                                                  \n",
            " max_pooling1d_9 (MaxPooling1D)  (None, 64, 256)     0           ['dropout_15[0][0]']             \n",
            "                                                                                                  \n",
            " conv1d_11 (Conv1D)             (None, 64, 256)      327936      ['max_pooling1d_6[0][0]']        \n",
            "                                                                                                  \n",
            " conv1d_16 (Conv1D)             (None, 64, 256)      327936      ['max_pooling1d_9[0][0]']        \n",
            "                                                                                                  \n",
            " dropout_11 (Dropout)           (None, 64, 256)      0           ['conv1d_11[0][0]']              \n",
            "                                                                                                  \n",
            " dropout_16 (Dropout)           (None, 64, 256)      0           ['conv1d_16[0][0]']              \n",
            "                                                                                                  \n",
            " max_pooling1d_7 (MaxPooling1D)  (None, 32, 256)     0           ['dropout_11[0][0]']             \n",
            "                                                                                                  \n",
            " max_pooling1d_10 (MaxPooling1D  (None, 32, 256)     0           ['dropout_16[0][0]']             \n",
            " )                                                                                                \n",
            "                                                                                                  \n",
            " conv1d_12 (Conv1D)             (None, 32, 512)      655872      ['max_pooling1d_7[0][0]']        \n",
            "                                                                                                  \n",
            " conv1d_17 (Conv1D)             (None, 32, 512)      655872      ['max_pooling1d_10[0][0]']       \n",
            "                                                                                                  \n",
            " dropout_12 (Dropout)           (None, 32, 512)      0           ['conv1d_12[0][0]']              \n",
            "                                                                                                  \n",
            " dropout_17 (Dropout)           (None, 32, 512)      0           ['conv1d_17[0][0]']              \n",
            "                                                                                                  \n",
            " max_pooling1d_8 (MaxPooling1D)  (None, 16, 512)     0           ['dropout_12[0][0]']             \n",
            "                                                                                                  \n",
            " max_pooling1d_11 (MaxPooling1D  (None, 16, 512)     0           ['dropout_17[0][0]']             \n",
            " )                                                                                                \n",
            "                                                                                                  \n",
            " conv1d_13 (Conv1D)             (None, 16, 512)      1311232     ['max_pooling1d_8[0][0]']        \n",
            "                                                                                                  \n",
            " conv1d_18 (Conv1D)             (None, 16, 512)      1311232     ['max_pooling1d_11[0][0]']       \n",
            "                                                                                                  \n",
            " dropout_13 (Dropout)           (None, 16, 512)      0           ['conv1d_13[0][0]']              \n",
            "                                                                                                  \n",
            " dropout_18 (Dropout)           (None, 16, 512)      0           ['conv1d_18[0][0]']              \n",
            "                                                                                                  \n",
            " conv1d_14 (Conv1D)             (None, 16, 768)      1966848     ['dropout_13[0][0]']             \n",
            "                                                                                                  \n",
            " conv1d_19 (Conv1D)             (None, 16, 768)      1966848     ['dropout_18[0][0]']             \n",
            "                                                                                                  \n",
            " dropout_14 (Dropout)           (None, 16, 768)      0           ['conv1d_14[0][0]']              \n",
            "                                                                                                  \n",
            " dropout_19 (Dropout)           (None, 16, 768)      0           ['conv1d_19[0][0]']              \n",
            "                                                                                                  \n",
            " global_max_pooling1d_2 (Global  (None, 768)         0           ['dropout_14[0][0]']             \n",
            " MaxPooling1D)                                                                                    \n",
            "                                                                                                  \n",
            " global_max_pooling1d_3 (Global  (None, 768)         0           ['dropout_19[0][0]']             \n",
            " MaxPooling1D)                                                                                    \n",
            "                                                                                                  \n",
            " concatenate_5 (Concatenate)    (None, 1536)         0           ['global_max_pooling1d_2[0][0]', \n",
            "                                                                  'global_max_pooling1d_3[0][0]'] \n",
            "                                                                                                  \n",
            " dense_3 (Dense)                (None, 1024)         1573888     ['concatenate_5[0][0]']          \n",
            "                                                                                                  \n",
            " dense_4 (Dense)                (None, 1024)         1049600     ['dense_3[0][0]']                \n",
            "                                                                                                  \n",
            " dense_5 (Dense)                (None, 1024)         1049600     ['dense_4[0][0]']                \n",
            "                                                                                                  \n",
            " classifier (Dense)             (None, 4)            4100        ['dense_5[0][0]']                \n",
            "                                                                                                  \n",
            "==================================================================================================\n",
            "Total params: 31,749,380\n",
            "Trainable params: 20,065,796\n",
            "Non-trainable params: 11,683,584\n",
            "__________________________________________________________________________________________________\n"
          ]
        }
      ]
    },
    {
      "cell_type": "code",
      "source": [
        "#save_dataset_splitted()\n",
        "headline_train, body_train, labels_train, headline_val, body_val, labels_val = get_dataset_splitted()"
      ],
      "metadata": {
        "id": "_Zvsn7JVSg08"
      },
      "execution_count": null,
      "outputs": []
    },
    {
      "cell_type": "code",
      "source": [
        "loss = tf.keras.losses.SparseCategoricalCrossentropy(from_logits=False) #in fact labels are not one-hot encoded\n",
        "\n",
        "earlystopping = EarlyStopping(monitor='val_loss', mode='min', patience=3, verbose=1)\n",
        "\n",
        "checkpoint = ModelCheckpoint(MODEL_DIR + \"/cnn_model/bert_large_test_drive.h5\",   \n",
        "        monitor='val_loss', mode='min', verbose=1, \n",
        "        save_best_only=True, save_freq='epoch'\n",
        ")\n",
        "\n",
        "learning_rate = 2e-4\n",
        "optimizer=tf.keras.optimizers.Adam(learning_rate=learning_rate)\n",
        "\n",
        "metrics = ['accuracy', \n",
        "          f1_training,\n",
        "          recall_training,\n",
        "          precision_training]\n",
        "\n",
        "model_bert.compile(\n",
        "    loss=loss, \n",
        "    optimizer=optimizer, \n",
        "    metrics=metrics\n",
        ")"
      ],
      "metadata": {
        "id": "RPL7jb0kSlGR"
      },
      "execution_count": null,
      "outputs": []
    },
    {
      "cell_type": "code",
      "source": [
        "EPOCHS=8\n",
        "\n",
        "model_bert.fit({\"title\": headline_train, \"body\": body_train},\n",
        "          labels_train,  \n",
        "          batch_size=BATCH_SIZE,\n",
        "          epochs=EPOCHS, \n",
        "          validation_data=({\"title\": headline_val, \"body\": body_val}, labels_val), \n",
        "          callbacks=[checkpoint, earlystopping],\n",
        "          verbose=1\n",
        ")   "
      ],
      "metadata": {
        "id": "5rHG7-VKSq-t"
      },
      "execution_count": null,
      "outputs": []
    },
    {
      "cell_type": "code",
      "source": [
        "model_bert.save(MODEL_DIR + \"/cnn_model/bert_large_4_epochs.h5\")"
      ],
      "metadata": {
        "id": "E25TF1HV2c8a"
      },
      "execution_count": null,
      "outputs": []
    },
    {
      "cell_type": "markdown",
      "source": [
        "## **Load and Test**"
      ],
      "metadata": {
        "id": "YZEu0aF6C8_z"
      }
    },
    {
      "cell_type": "code",
      "source": [
        "MODEL_TO_LOAD = MODEL_DIR + \"cnn_model/seq_length_5.h5\"# CNN experiments/cnn_net_128_5_2048.h5\" #cnn_net_128_3_stratified  cnn_net_3_layers_2048 cnn_net_window_5\n",
        "model_loaded = tf.keras.models.load_model((MODEL_TO_LOAD), custom_objects={'KerasLayer':hub.KerasLayer, 'f1_training':f1_training, 'recall_training':recall_training, 'precision_training':precision_training,})"
      ],
      "metadata": {
        "id": "ZIznlB-pC4rA"
      },
      "execution_count": null,
      "outputs": []
    },
    {
      "cell_type": "code",
      "source": [
        "###########   TEST\n",
        "# compute score on test\n",
        "headline_test, articleBody_test, gold_labels = get_dataset(\"competition_test\")\n",
        "\n",
        "BERT = False\n",
        "\n",
        "if BERT:\n",
        "  start_time = time.time()\n",
        "  pred_labels = get_predictions(headline_test, articleBody_test, model_loaded)\n",
        "  inference_time = time.time() - start_time\n",
        "else:\n",
        "  vectorizer = get_vectorizer(SEQ_LENGTH)\n",
        "  vect_head_test = vectorizer(np.array([[s] for s in headline_test])).numpy()\n",
        "  vect_body_test = vectorizer(np.array([[s] for s in articleBody_test])).numpy()\n",
        "\n",
        "  start_time = time.time()\n",
        "  pred_labels = get_predictions(vect_head_test, vect_body_test, model_loaded)\n",
        "  inference_time = time.time()\n",
        "\n",
        "gold_labels = np.array([LABELS[i] for i in gold_labels])\n",
        "print(f'Inference time: {inference_time}')"
      ],
      "metadata": {
        "colab": {
          "base_uri": "https://localhost:8080/"
        },
        "id": "QeLVSpBBYelY",
        "outputId": "31df1fa4-936d-4b6b-de1d-e47f6f0eb351"
      },
      "execution_count": null,
      "outputs": [
        {
          "output_type": "stream",
          "name": "stdout",
          "text": [
            "Inference time: 1643631194.4119856\n"
          ]
        }
      ]
    },
    {
      "cell_type": "code",
      "source": [
        "fig, ax = plt.subplots(figsize=(6, 6))\n",
        "ConfusionMatrixDisplay.from_predictions(gold_labels, pred_labels, xticks_rotation='vertical', ax=ax)\n",
        "score_test = score_metrics(gold_labels, pred_labels)\n",
        "print(get_confusion_matrix(gold_labels, pred_labels))"
      ],
      "metadata": {
        "colab": {
          "base_uri": "https://localhost:8080/",
          "height": 415
        },
        "id": "WfbdtyrS-g5Z",
        "outputId": "841152a4-5e32-4798-b1db-ce230e591c95"
      },
      "execution_count": null,
      "outputs": [
        {
          "output_type": "stream",
          "name": "stdout",
          "text": [
            "[[1335, 0, 469, 99], [490, 0, 141, 66], [1477, 0, 2606, 381], [4721, 39, 3945, 9644]]\n"
          ]
        },
        {
          "output_type": "display_data",
          "data": {
            "image/png": "[encoded data removed]",
            "text/plain": [
              "<Figure size 432x432 with 2 Axes>"
            ]
          },
          "metadata": {
            "needs_background": "light"
          }
        }
      ]
    },
    {
      "cell_type": "code",
      "source": [
        "###########   TEST\n",
        "\n",
        "test_annot = pd.read_csv(\"competition_test_stances.csv\")\n",
        "unrelated_num = test_annot.Stance.value_counts().unrelated\n",
        "unrelated_num = sum(map(lambda x : x == 'unrelated', gold_labels))\n",
        "max_score = len(test_annot) - (unrelated_num * 0.75)\n",
        "print(f'Score test: {score_test}/{max_score}, so {(score_test*100)/max_score}%')\n",
        "print()"
      ],
      "metadata": {
        "colab": {
          "base_uri": "https://localhost:8080/"
        },
        "id": "zL2u2JLxY6hE",
        "outputId": "6efc2437-29ca-4dcb-eee1-77bccda32732"
      },
      "execution_count": null,
      "outputs": [
        {
          "output_type": "stream",
          "name": "stdout",
          "text": [
            "Score test: 6996.25/11651.25, so 60.047205235489756%\n",
            "\n"
          ]
        }
      ]
    },
    {
      "cell_type": "code",
      "source": [
        "f1_summary = f1_score(gold_labels, pred_labels, average=None)\n",
        "f1_micro = f1_score(gold_labels, pred_labels, average=\"micro\")\n",
        "f1_macro = f1_score(gold_labels, pred_labels, average=\"macro\")\n",
        "print(f1_summary)\n",
        "print(f1_micro)\n",
        "print(f1_macro)"
      ],
      "metadata": {
        "colab": {
          "base_uri": "https://localhost:8080/"
        },
        "id": "6FL-pu-m-kEr",
        "outputId": "dc658869-14c2-43c3-d053-be59007b7233"
      },
      "execution_count": null,
      "outputs": [
        {
          "output_type": "stream",
          "name": "stdout",
          "text": [
            "[0.26899053 0.         0.44834409 0.67584709]\n",
            "0.5345689214181718\n",
            "0.3482954255965092\n"
          ]
        }
      ]
    },
    {
      "cell_type": "code",
      "source": [
        "MODEL_TO_LOAD = MODEL_DIR + \"cnn_model/seq_length_5.h5\"   #CNN experiments/cnn_net_3_layers_2048.h5\" #  cnn_net_3_layers_2048 cnn_net_window_5\n",
        "model_loaded = tf.keras.models.load_model((MODEL_TO_LOAD), custom_objects={'KerasLayer':hub.KerasLayer, 'f1_training':f1_training, 'recall_training':recall_training, 'precision_training':precision_training,})"
      ],
      "metadata": {
        "id": "vhNs5rQT8nfh"
      },
      "execution_count": null,
      "outputs": []
    },
    {
      "cell_type": "code",
      "source": [
        "###########   TRAINING\n",
        "\n",
        "# compute score on validation\n",
        "headline_train, body_train, labels_train, headline_val, body_val, labels_val = get_dataset_splitted()\n",
        "\n",
        "BERT = False\n",
        "\n",
        "if BERT:\n",
        "  start_time = time.time()\n",
        "  pred_labels = get_predictions(headline_train, body_train, model_loaded)\n",
        "  inference_time = time.time() - start_time\n",
        "else:\n",
        "  vectorizer = get_vectorizer(SEQ_LENGTH)\n",
        "  vect_head_train = vectorizer(np.array([[s] for s in headline_train])).numpy()\n",
        "  vect_body_train = vectorizer(np.array([[s] for s in body_train])).numpy()\n",
        "\n",
        "  start_time = time.time()\n",
        "  pred_labels = get_predictions(vect_head_train, vect_body_train, model_loaded)\n",
        "  inference_time = time.time()\n",
        "\n",
        "gold_labels = np.array([LABELS[i] for i in labels_train])\n",
        "print(f'Inference time: {inference_time}')\n",
        "\n",
        "\n",
        "fig, ax = plt.subplots(figsize=(6, 6))\n",
        "ConfusionMatrixDisplay.from_predictions(gold_labels, pred_labels, xticks_rotation='vertical', ax=ax)\n",
        "score_test = score_metrics(gold_labels, pred_labels)\n",
        "print(get_confusion_matrix(gold_labels, pred_labels))\n",
        "\n",
        "\n",
        "unrelated_num = sum(map(lambda x : x == 3, labels_train))\n",
        "max_score = len(labels_train) - (unrelated_num * 0.75)\n",
        "print(f'Score test: {score_test}/{max_score}, so {(score_test*100)/max_score}%')\n",
        "print()\n",
        "\n",
        "f1_summary = f1_score(gold_labels, pred_labels, average=None)\n",
        "f1_micro = f1_score(gold_labels, pred_labels, average=\"micro\")\n",
        "f1_macro = f1_score(gold_labels, pred_labels, average=\"macro\")\n",
        "print(f1_summary)\n",
        "print(f1_micro)\n",
        "print(f1_macro)"
      ],
      "metadata": {
        "colab": {
          "base_uri": "https://localhost:8080/",
          "height": 525
        },
        "id": "PwG1Nmeg_tYK",
        "outputId": "c47c7d15-978b-4ce7-f92c-20d6530417c9"
      },
      "execution_count": null,
      "outputs": [
        {
          "output_type": "stream",
          "name": "stdout",
          "text": [
            "Inference time: 1643631176.1254628\n",
            "[[2507, 72, 165, 198], [401, 167, 39, 65], [31, 10, 6735, 351], [320, 5, 646, 28265]]\n",
            "Score test: 16654.75/18050.0, so 92.27008310249307%\n",
            "\n",
            "[0.80857926 0.36069114 0.91557912 0.97272649]\n",
            "0.9423918753283138\n",
            "0.7643940039458395\n"
          ]
        },
        {
          "output_type": "display_data",
          "data": {
            "image/png": "[encoded data removed]",
            "text/plain": [
              "<Figure size 432x432 with 2 Axes>"
            ]
          },
          "metadata": {
            "needs_background": "light"
          }
        }
      ]
    },
    {
      "cell_type": "code",
      "source": [
        "###########   VALIDATION\n",
        "\n",
        "# compute score on validation\n",
        "headline_train, body_train, labels_train, headline_val, body_val, labels_val = get_dataset_splitted()\n",
        "\n",
        "BERT = False\n",
        "\n",
        "if BERT:\n",
        "  start_time = time.time()\n",
        "  pred_labels = get_predictions(headline_val, body_val, model_loaded)\n",
        "  inference_time = time.time() - start_time\n",
        "else:\n",
        "  vectorizer = get_vectorizer(SEQ_LENGTH)\n",
        "  vect_head_val = vectorizer(np.array([[s] for s in headline_val])).numpy()\n",
        "  vect_body_val = vectorizer(np.array([[s] for s in body_val])).numpy()\n",
        "\n",
        "  start_time = time.time()\n",
        "  pred_labels = get_predictions(vect_head_val, vect_body_val, model_loaded)\n",
        "  inference_time = time.time()\n",
        "\n",
        "gold_labels = np.array([LABELS[i] for i in labels_val])\n",
        "print(f'Inference time: {inference_time}')\n",
        "\n",
        "\n",
        "fig, ax = plt.subplots(figsize=(6, 6))\n",
        "ConfusionMatrixDisplay.from_predictions(gold_labels, pred_labels, xticks_rotation='vertical', ax=ax)\n",
        "score_test = score_metrics(gold_labels, pred_labels)\n",
        "print(get_confusion_matrix(gold_labels, pred_labels))\n",
        "\n",
        "\n",
        "unrelated_num = sum(map(lambda x : x == 3, labels_val))\n",
        "max_score = len(labels_val) - (unrelated_num * 0.75)\n",
        "print(f'Score test: {score_test}/{max_score}, so {(score_test*100)/max_score}%')\n",
        "print()\n",
        "\n",
        "f1_summary = f1_score(gold_labels, pred_labels, average=None)\n",
        "f1_micro = f1_score(gold_labels, pred_labels, average=\"micro\")\n",
        "f1_macro = f1_score(gold_labels, pred_labels, average=\"macro\")\n",
        "print(f1_summary)\n",
        "print(f1_micro)\n",
        "print(f1_macro)"
      ],
      "metadata": {
        "colab": {
          "base_uri": "https://localhost:8080/",
          "height": 525
        },
        "id": "rLdA9UltsRmD",
        "outputId": "886887fc-d92b-4cf0-ca2a-faaaa5ff2d51"
      },
      "execution_count": null,
      "outputs": [
        {
          "output_type": "stream",
          "name": "stdout",
          "text": [
            "Inference time: 1643631135.8375232\n",
            "[[579, 34, 63, 60], [113, 31, 11, 13], [11, 6, 1626, 139], [116, 2, 253, 6938]]\n",
            "Score test: 4030.0/4513.25, so 89.29263834265772%\n",
            "\n",
            "[0.74469453 0.25726141 0.87068273 0.95967909]\n",
            "0.9178589294647324\n",
            "0.7080794420202039\n"
          ]
        },
        {
          "output_type": "display_data",
          "data": {
            "image/png": "[encoded data removed]",
            "text/plain": [
              "<Figure size 432x432 with 2 Axes>"
            ]
          },
          "metadata": {
            "needs_background": "light"
          }
        }
      ]
    },
    {
      "cell_type": "code",
      "source": [
        "headline_train, body_train, labels_train, headline_val, body_val, labels_val = get_dataset_splitted()"
      ],
      "metadata": {
        "id": "8xHk15G08C45"
      },
      "execution_count": null,
      "outputs": []
    },
    {
      "cell_type": "code",
      "source": [
        "print(labels_val)"
      ],
      "metadata": {
        "colab": {
          "base_uri": "https://localhost:8080/"
        },
        "id": "PvqU0CWS8D2n",
        "outputId": "f54983e8-1f18-48be-d028-63086058b592"
      },
      "execution_count": null,
      "outputs": [
        {
          "output_type": "stream",
          "name": "stdout",
          "text": [
            "[2 3 2 ... 3 3 2]\n"
          ]
        }
      ]
    },
    {
      "cell_type": "markdown",
      "source": [
        "## **TEST**"
      ],
      "metadata": {
        "id": "BOkIhuwnqRY9"
      }
    },
    {
      "cell_type": "code",
      "source": [
        "###########   VAL\n",
        "unrelated_num = sum(map(lambda x : x == 3, labels_val))\n",
        "print(unrelated_num/len(labels_val))\n",
        "\n",
        "agree = sum(map(lambda x : x == 0, labels_val)) # 7.4, 1.7, 17.8 73.1\n",
        "print(agree/len(labels_val)) \n",
        "\n",
        "disagree = sum(map(lambda x : x == 1, labels_val))\n",
        "print(disagree/len(labels_val))\n",
        "\n",
        "discuss = sum(map(lambda x : x == 2, labels_val))\n",
        "print(discuss/len(labels_val))"
      ],
      "metadata": {
        "id": "z3JU9mYtCAEv",
        "colab": {
          "base_uri": "https://localhost:8080/"
        },
        "outputId": "245d07f2-d951-4e74-b409-a894da21ffd3"
      },
      "execution_count": null,
      "outputs": [
        {
          "output_type": "stream",
          "name": "stdout",
          "text": [
            "0.7312656328164082\n",
            "0.07363681840920461\n",
            "0.01680840420210105\n",
            "0.17828914457228615\n"
          ]
        }
      ]
    },
    {
      "cell_type": "code",
      "source": [
        "preprocessing_layer = hub.KerasLayer(BERT_PREPROCESS_MODEL, name='preprocessing')\n",
        "encoder = hub.KerasLayer(BERT_MODEL, trainable=False, name='BERT_encoder')"
      ],
      "metadata": {
        "id": "5sXCrOmw9nqy"
      },
      "execution_count": null,
      "outputs": []
    },
    {
      "cell_type": "code",
      "source": [
        "text_test = ['NLP is such an amazing topic!', 'yessss man that\\'s right']\n",
        "text_preprocessed = preprocessing_layer(text_test)\n",
        "encoder_output = encoder(text_preprocessed)\n",
        "\n",
        "print(f'Encoder Outputs Len:{len(encoder_output[\"encoder_outputs\"])}')\n",
        "print(f'First encoder output Shape:{encoder_output[\"encoder_outputs\"][0].shape}')\n",
        "print(f'First encoder output Values:{encoder_output[\"encoder_outputs\"][0][0, :12]}')\n",
        "\n",
        "print(f'Last encoder output Shape:{encoder_output[\"encoder_outputs\"][-1].shape}')\n",
        "print(f'Last encoder output Values:{encoder_output[\"encoder_outputs\"][-1][0, :12]}')\n",
        "\n",
        "con = layers.Concatenate(axis=2)(encoder_output[\"encoder_outputs\"][-4:])\n",
        "print(con.shape)"
      ],
      "metadata": {
        "id": "QGVx_lvA-g65",
        "colab": {
          "base_uri": "https://localhost:8080/"
        },
        "outputId": "cd7d9c19-91cb-4016-8198-01401b4ad7bc"
      },
      "execution_count": null,
      "outputs": [
        {
          "output_type": "stream",
          "name": "stdout",
          "text": [
            "Encoder Outputs Len:12\n",
            "First encoder output Shape:(2, 128, 768)\n",
            "First encoder output Values:[[ 0.63196665  0.72824425  0.02815381 ...  0.40477645 -0.27801156\n",
            "   0.01448902]\n",
            " [ 0.19626704 -0.08015473  1.0844378  ... -0.24407747  0.0690643\n",
            "   1.4097763 ]\n",
            " [-0.5235941   0.9797519   0.7515236  ... -0.47939897 -0.2512071\n",
            "   1.2809124 ]\n",
            " ...\n",
            " [ 0.4516008  -1.3139483  -0.6335703  ...  0.076499   -0.57104117\n",
            "  -0.3675774 ]\n",
            " [ 0.05883533 -0.25499856 -0.05418177 ...  0.4626816  -0.5195377\n",
            "   0.46779627]\n",
            " [-0.2553115  -0.07954732  0.316671   ...  0.51137197  0.0100887\n",
            "   0.22091766]]\n",
            "Last encoder output Shape:(2, 128, 768)\n",
            "Last encoder output Values:[[-0.33739993 -1.1926047   1.9643435  ...  0.70534587 -0.7244281\n",
            "   1.4115175 ]\n",
            " [-0.4174343  -1.3315657   1.9003549  ...  0.5480451  -0.7924222\n",
            "   1.8019047 ]\n",
            " [-0.4441178  -1.3127457   1.9798666  ...  0.5427514  -0.7651248\n",
            "   1.8425766 ]\n",
            " ...\n",
            " [-1.5991316  -0.6604965  -0.13147555 ...  0.6915815  -0.8395759\n",
            "   1.68677   ]\n",
            " [-1.9298526  -0.46980605  0.02826781 ...  0.85070556 -0.9143539\n",
            "   1.6595093 ]\n",
            " [-2.0592198  -0.40460685  0.16588315 ...  0.85463023 -0.93360424\n",
            "   1.6381936 ]]\n",
            "(2, 128, 3072)\n"
          ]
        }
      ]
    }
  ]
}